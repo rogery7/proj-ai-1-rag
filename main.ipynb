{
 "cells": [
  {
   "cell_type": "code",
   "execution_count": 1,
   "metadata": {},
   "outputs": [],
   "source": [
    "from qdrant_client import QdrantClient\n",
    "import openai\n",
    "import os\n",
    "from dotenv import load_dotenv\n",
    "\n",
    "load_dotenv()\n",
    "\n",
    "client = QdrantClient(url=\"http://localhost:6333\")\n",
    "\n",
    "openai_client = openai.Client(\n",
    "    api_key=os.getenv(\"OPENAI_API_KEY\"),\n",
    ")"
   ]
  },
  {
   "cell_type": "code",
   "execution_count": 2,
   "metadata": {},
   "outputs": [],
   "source": [
    "dimensions = 1536\n",
    "embedding_model = \"text-embedding-3-small\"\n",
    "collection_name = \"gates_notes\""
   ]
  },
  {
   "cell_type": "code",
   "execution_count": 7,
   "metadata": {},
   "outputs": [
    {
     "data": {
      "text/plain": [
       "True"
      ]
     },
     "execution_count": 7,
     "metadata": {},
     "output_type": "execute_result"
    }
   ],
   "source": [
    "from qdrant_client.models import Distance, VectorParams\n",
    "\n",
    "client.create_collection(\n",
    "    collection_name=collection_name,\n",
    "    vectors_config=VectorParams(size=dimensions, distance=Distance.COSINE),\n",
    ")"
   ]
  },
  {
   "cell_type": "code",
   "execution_count": null,
   "metadata": {},
   "outputs": [],
   "source": [
    "import os\n",
    "import PyPDF2\n",
    "from qdrant_client.models import PointStruct\n",
    "\n",
    "# Read a PDF file and split its content into chunks of text\n",
    "def read_pdf_chunks(file_path, chunk_size=1000):\n",
    "    chunks = []\n",
    "    with open(file_path, 'rb') as file:\n",
    "        pdf_reader = PyPDF2.PdfReader(file)\n",
    "        for page_num in range(len(pdf_reader.pages)):\n",
    "            page = pdf_reader.pages[page_num]\n",
    "            text = page.extract_text()\n",
    "            # Split text into chunks\n",
    "            for i in range(0, len(text), chunk_size):\n",
    "                chunks.append(text[i:i+chunk_size])\n",
    "    return chunks\n",
    "\n",
    "# List all files in the directory\n",
    "pdf_directory = './gates_notes'\n",
    "pdf_files = [file for file in os.listdir(pdf_directory) if file.endswith('.pdf')]\n",
    "\n",
    "# Process each PDF file\n",
    "for pdf_file in pdf_files:\n",
    "    year = pdf_file[:4]\n",
    "\n",
    "    pdf_file_path = os.path.join(pdf_directory, pdf_file)\n",
    "    chunk_size = 1000  # Number of characters per chunk\n",
    "\n",
    "    pdf_chunks = read_pdf_chunks(pdf_file_path, chunk_size)\n",
    "\n",
    "    result = openai_client.embeddings.create(input=pdf_chunks, model=embedding_model, dimensions=dimensions)\n",
    "\n",
    "    # Format data using PointStruct\n",
    "    points = [\n",
    "        PointStruct(\n",
    "            id=idx,\n",
    "            vector=data.embedding,\n",
    "            payload={\n",
    "                \"year\": year,\n",
    "                \"title\": pdf_file,\n",
    "                \"text\": ''.join(pdf_chunks),\n",
    "            },\n",
    "        )\n",
    "        for idx, (data) in enumerate(result.data)\n",
    "    ]\n",
    "\n",
    "    print(points)\n",
    "\n",
    "    client.upsert(collection_name, points)\n"
   ]
  },
  {
   "cell_type": "code",
   "execution_count": 29,
   "metadata": {},
   "outputs": [],
   "source": [
    "def query_qdrant(query, top_k=1):\n",
    "\n",
    "    embedded_query = openai_client.embeddings.create(\n",
    "        input=query,\n",
    "        model=embedding_model,\n",
    "        dimensions=dimensions,\n",
    "    ).data[0].embedding\n",
    "    \n",
    "    query_results = client.search(\n",
    "        collection_name=collection_name,\n",
    "        query_vector=(\n",
    "            embedded_query\n",
    "        ),\n",
    "        limit=top_k,\n",
    "    )\n",
    "    \n",
    "    return query_results"
   ]
  },
  {
   "cell_type": "code",
   "execution_count": 37,
   "metadata": {},
   "outputs": [
    {
     "name": "stdout",
     "output_type": "stream",
     "text": [
      "id=22 version=12 score=0.3554935 payload={'text': \"Downloads  Home Ideas / 2023 Gates Foundation Annual Letter /\\nThis page is available in: \\x00 \\x00 \\x00 \\x00 Deutsch English Español Français \\x00ह\\x00दी⽇本 中⽂\\nDoes our foundation have too\\nmuch inﬂuence? Here’s how I see\\nit.\\nMark Suzman sees a medical app demonstration at the Veerangana Awanti Bai Women\\nHospital in India. ©Gates Archive/Mansi Midha\\nShareAbout us Our work Ideas Search5/6/24, 8:49 PM 2023 Gates Foundation Annual Letter: Our Inﬂuence | Bill & Melinda Gates Foundation\\nhttps://www.gatesfoundation.org/ideas/articles/2023-gates-foundation-annual-letter 1/13Jan 16, 2023\\n21min read\\nBy \\nCEO, Board Member, Bill & Melinda Gates\\nFoundationMark Suzman\\n2023 Gates Foundation Annual Letter\\nDuring the COVID-19 pandemic, the remarkable, unprecedented progress made over\\nthe previous two decades in global health and development has stalled, and in many\\ncases even reversed. Sadly, instead of accelerating efforts to fight infectious diseases,\\nhelp reduce extreme poverty, advance gender equality, and address the effects of\\nclimate change, the world has so far failed to step up with the necessary political will\\nand resources.\\nIn that context, at the Bill & Melinda Gates Foundation we are proud to be doubling\\ndown on our commitment to our core mission: helping to ensure that every person\\nhas the chance to lead a healthy, productive life.\\nLast year, we created a new, expanded board of trustees, co-chaired by Bill and\\nMelinda, to hold the foundation accountable and ensure that our decisions\\nincorporate diverse, outside perspectives. On January 11, the board approved our\\n2023 budget of US$8.3 billion, an estimated increase of 15 percent over the 2022\\nforecasted payout—ke eping us on track to meet our commitment of increasing our\\nannual payout\\xa0to US$9 billion by 2026.\\n$8.3B\\n2023 budget15%\\nIncrease compared to 2022 payout$9B\\nCommitment for annual payo\\nThis puts us in the privileged position of being able to give away more money than\\nany other philanthropy. It also raises an important question we hear often: Does our\\nspending, along with the doors that it opens, give us too much power and influence?5/6/24, 8:49 PM 2023 Gates Foundation Annual Letter: Our Inﬂuence | Bill & Melinda Gates Foundation\\nhttps://www.gatesfoundation.org/ideas/articles/2023-gates-foundation-annual-letter 2/13We have an obligation to be clear about how we try\\nto use our inﬂuence and why.\\nOne line of critique is that our focus on certain problems and solutions draws\\nattention and resources away from other important issues. Another is that we have\\ndisproportionate sway in setting national and global agendas, without any formal\\naccountability to voters or international bodies.\\nThese are fair questions—and we have an obligation to be clear about how we try to\\nuse our influence and why.\\nSince Bill and Melinda created the foundation 22 years ago, every choice we’ve made\\nhas been in service of our mission. Warren Buffett, who has generously contributed\\nnearly half the foundation’s total resources, has always urged us to “swing for the\\nfences” and take big bets—all to benefit the health and welfare of people whose\\nopportunities are limited because of where they happened to be born. (You can read\\nBill’s Year Ahead 2023  for his take on some of those bets.)\\nIt’s true that between our dollars, voice, and convening power, we have access and\\ninfluence that many others do not. It’s also true that we are able to act in ways that\\nothers cannot. Because of this, we can call attention to and help find solutions for\\nproblems that otherwise might be neglected.\\nPeople listen to Bill and Melinda because of who they are, and to others at the\\nfoundation because of where we work. We try to use that privilege to elevate the\\nvoices of those who don’t have a global platform and push relentlessly for world\\nleaders to spend their funds to lift up vulnerable populations. We push, too, to ensure\\nthat innovations and solutions center the needs of women and girls, who are so often\\noverlooked. Our staff use their access to learn from partners about what’s needed in\\nthe field and to direct resources to make the impact we all want to see.\\nAnd because our foundation doesn’t need to make a profit like corporations do or\\nprovide immediate results like governments do or raise funds like many NGOs do, we\\ncan make high-risk bets on novel solutions that may take a decade or more to pay off.\\nWith this inﬂuence comes an\\nenormous responsibility: to act\\nwhere we can do the most good,\\nplay a role that’s appropriate for a\\nphilanthropic organization, follow\\nthe evidence, be transparent, and\\nwork in partnership with those we\\naim to help.\\n5/6/24, 8:49 PM 2023 Gates Foundation Annual Letter: Our Inﬂuence | Bill & Melinda Gates Foundation\\nhttps://www.gatesfoundation.org/ideas/articles/2023-gates-foundation-annual-letter 3/13Big bets to mee t global goals\\nOne critique we hear a lot: “Why are a couple of unelected\\nbillionaires setting the agenda for global health and\\ndevelopment?”\\nYes, our founders are billionaires. But neither they, I, nor the\\nrest of our board of trustees set the world’s agenda; as a\\nfoundation, we respond to it. We are guided by the\\nSustainable Development Goals, a set of concrete, measurable\\ncommitments made by every country in the United Nations to\\ntheir own citizens.\\nFrom those shared priorities, we identify a subset of areas—\\nfrom improving vaccination rates to advancing women’s\\neconomic power—where we have the funds, expertise, and\\nrelationships to be part of the solution and where\\ntransformational progress is unlikely without our involvement.\\nGeographically, we seek to help those who live in places with a\\nhigh burden of disease and poverty.We make all our investments public\\xa0and strive to be fully\\ntransparent about our priorities and strategies. Finally, we find\\nways to join others who are tackling these challenges and\\ncarefully assess the landscape to determine our role. After all,\\nwhile our payout is large, it’s typically only a small portion of\\nthe money the world spends on these issues. So we work with\\npartners to amplify all of our contributions.\\nTo illuminate how we think about our role, let me address our\\ninfluence through the examples of three of the important\\npriorities reflected in our new budget and our long-term\\ngoals: helping smallholder farmers thrive despite the effects of\\nclimate change; ending malaria; and helping U.S. schools\\nmake math instruction more effective.\\nAgricultural adaptation: Going all in\\nwhere the need is the greatest\\nOur work in response to climate change is a\\ngreat example of how we seek to prioritize the\\nneeds of the most vulnerable—and do all we\\ncan to get others to, as well.\\nIt’s a harsh reality that the communities that have\\ncontributed least to the climate crisis are already facing its\\nmost severe consequences. Nobody knows that more than\\nsmallholder farmers in sub-Saharan Africa and South Asia,\\nwho are experiencing devastating floods and drought,\\nshrinking growing seasons, and in some places even famine.5/6/24, 8:49 PM 2023 Gates Foundation Annual Letter: Our Inﬂuence | Bill & Melinda Gates Foundation\\nhttps://www.gatesfoundation.org/ideas/articles/2023-gates-foundation-annual-letter 4/13We’ve focused on agricultural development for 16 years,\\nbecause it’s one of the most effective ways to help large\\nnumbers of people lift themselves out of poverty. I recently\\nannounced at the 2022 United Nations Climate Change\\nConference that we are accelerating that work with a $1.4\\nbillion commitment over four years to help provide farmers\\nwith innovative tools and build more resilient food systems.\\nFor years, leaders in sub-Saharan Africa, South Asia, and\\nother affected regions have been calling for dramatic\\nfunding increases for adaptation—that is, ways to adjust to\\nchanges in the climate, as opposed to preventing or\\nmitigating climate change. These calls have been largely\\nignored. While US$632 billion was spent globally to combat\\nclimate change in 2020,  just 7% of that went toward climate\\nadaptation.\\nIt’s not that the world hasn’t invested in agricultural\\ninnovation. It certainly has, with incredible advances in crop\\nproductivity over the last half-century. But shockingly little\\nmoney has been spent to meet the needs of farmers in low-\\nincome countries—even by donor nations that have made\\npublic commitments to do so.\\nFor instance, the vast majority of research and development\\nhas targeted the major crops common in wealthy nations\\nrather than crops that millions of African families depend on.\\nRich countries will invest in better approaches to producing\\nthe crops that their populations rely on whether or not the\\nGates Foundation gets involved. But that’s not true for\\ncowpeas, millet, cassava, or direct-seeded rice.\\nWe fund a huge volume of research—in particular through\\nCGIAR, a network of research centers around the world—on\\nhow these crops can be produced and livestock reared more\\nreliably, prolifically, and sustainably. We also make\\ninvestments to make sure that innovations meet the needs\\nof smallholder farmers—for example by answering low-\\nincome countries’ call for better data and modeling to\\npredict climate events.\\nOne important component of our agricultural adaptation\\nstrategy is to prioritize the needs of women. Gender equality\\nis a Sustainable Development Goal of its own—but it’s also a\\nvital path to meeting all of the other goals. Diseases can’t be\\neradicated if researchers don’t understand the unique ways\\nthey impact women and girls; innovative sanitation\\ntechnologies won’t effectively serve a community unless5/6/24, 8:49 PM 2023 Gates Foundation Annual Letter: Our Inﬂuence | Bill & Melinda Gates Foundation\\nhttps://www.gatesfoundation.org/ideas/articles/2023-gates-foundation-annual-letter 5/13Malaria: Equipping partners to end\\nthe diseasepeople of all genders are comfortable using them; anti-\\npoverty measures won’t make a dent unless they capture the\\nmillions of women earning a living outside the formal\\neconomy.\\nWith this in mind, several years ago we made a commitment\\nto design strategies and investments to effectively serve\\nwomen and girls. Nowhere is this more relevant than in\\nagriculture, since women comprise half of smallholder\\nfarmers worldwide. We are using our influence to put\\nwomen farmers at the heart of solutions—whether that\\nmeans equal access to credit and markets, farming\\nimplements tailored to them, or training to equip them to be\\nmentors and leaders in their communities.\\nPerhaps most importantly, we’re doing our agriculture work\\nin partnership with regional and local institutions. While\\nwe’re sometimes accused of advancing corporate interests\\nor pushing technologies that countries don’t want, in fact we\\nwork at the request of national governments and regional\\nbodies like the African Union (which has developed a\\ncontinent-wide climate strategy) and the African Adaptation\\nInitiative (which helps governments get climate financing\\nand coordinates advocacy efforts). We invest a lot to build up\\ninstitutions, so that they can lead the work altogether. And\\nwe’ll use our influence to press others to step up too.\\nBy the turn of this century, malaria had been\\neliminated in wealthy nations yet still killed\\nnearly a million people a year—m ostly young\\nchildren—in poorer countries.\\nSo we joined with other organizations working to reduce the\\nburden of this preventable disease, dedicating billions of\\ndollars to the effort. This past September, the foundation\\nannounced a US$912 million commitment over three years\\nto the Global Fund to Fight AIDS, Tuberculosis and Malaria.\\nOur biggest contribution over the years, though, may not\\nhave been the money. In 2007,  Melinda posed a challenge to\\nthe global health community: Rather than merely reduce the5/6/24, 8:49 PM 2023 Gates Foundation Annual Letter: Our Inﬂuence | Bill & Melinda Gates Foundation\\nhttps://www.gatesfoundation.org/ideas/articles/2023-gates-foundation-annual-letter 6/13threat of malaria, why not totally eradicate it? From there, we\\nplotted backwards: What actions would get the world to zero\\ncases? Of those, which would be unlikely to happen if we\\ndidn’t play a role?\\nOur influence hasn’t really been about what we can make\\nhappen. (Our contribution to the Global Fund, after all, is\\nonly about 6% of what it raises from all donors.) It’s about\\nhow we help others make a huge impact.\\nWe have funded R&D for and gotten private-sector\\ncompanies to focus on not just the next generation of\\ndiagnostic tools, bed nets, and medicines, but also the\\ngeneration after that. That includes work agreements we’ve\\nreached with pharmaceutical companies so they produce\\ndrugs that benefit low-income populations, even though\\nthose products don’t have high profit margins. We’ve helped\\nsome countries export their knowledge—like China, which\\neliminated malaria within its borders and now lends its\\nexpertise to African countries—and helped others\\nstrengthen measurement systems and analytic capacity so\\nthey can use data to tailor malaria interventions to local\\nneeds. And we fund the training of African entomologists\\nand national malaria program staff, so that there will always\\nbe a vibrant community of experts to see the fight to the\\nend.\\nAll along, Bill, Melinda, and I\\nhave spent a lot of time trying to\\nconvince leaders to dedicate more\\nmoney to ﬁghting malaria and\\nother diseases that\\ndisproportionately aﬀect people\\nliving in poverty.\\nBy all accounts, the fight has been a big success. While\\nmalaria deaths have increased during the pandemic, from\\n2000 to 2020 the death rate dropped by nearly 50%. We’re\\noptimistic that cases could fall even more over the next few\\nyears, thanks to several promising innovations in the works,\\nincluding a preventive therapy that uses monoclonal\\nantibodies and ways to rid areas of the most deadly5/6/24, 8:49 PM 2023 Gates Foundation Annual Letter: Our Inﬂuence | Bill & Melinda Gates Foundation\\nhttps://www.gatesfoundation.org/ideas/articles/2023-gates-foundation-annual-letter 7/13Math education: Raising expectations\\nfor engagi ng instructionmosquitos (by killing them with sugar bait traps or using\\ngenetic technology to stop disease transmission).\\nDespite this progress, people have raised good questions\\nabout our work. They ask whether resources spent on\\nspecific diseases would be better spent on improving overall\\nhealth systems. They suggest that eradication is an\\nunrealistic goal. And they critique the foundation for playing\\nwhat they see as an outsized role.\\nWe agree that funding health systems is important, so we do\\nthat too, in Ethiopia, India, and other countries. We agree\\nthat calling for malaria eradication is audacious, but we knew\\nthat any lesser goal would mean continued suffering.\\nOn the size of our role, I agree, in a way: It’s not right for a\\nprivate philanthropy to be one of the largest funders of\\nmultinational global health efforts. Countries should fully\\nfund them. But consider the example of the World Health\\nOrganization. Where we share common goals, like\\neradicating malaria, we fund WHO programs. As countries\\nhave decreased their contributions, we’ve become the\\nsecond-largest donor. I’d love it if many more governments\\nwould pass us on that list—because that would mean more\\nlives saved.5/6/24, 8:49 PM 2023 Gates Foundation Annual Letter: Our Inﬂuence | Bill & Melinda Gates Foundation\\nhttps://www.gatesfoundation.org/ideas/articles/2023-gates-foundation-annual-letter 8/13When scores on the U.S. National Assessment of Educational\\nProgress were released in October 2022, we saw the greatest\\ndecline in fourth- and eighth-grade math scores ever captured\\nin the test's 50-year history. We didn’t need those scores,\\nhowever, to know that in too many K-12 classrooms, math is a\\nchore and not a joy—and a proven barrier to high school and\\neven college graduation, especially for Black and brown\\nstudents.\\nThat’s why we are investing US$1.1\\nbillion over four years to improve\\nthe quality of math instruction for\\nall kids.\\nAs a share of U.S. education spending, that’s not a huge\\namount—only about one-sixth of what’s likely to be spent on\\npublic schools in Wyoming, America’s least populous state,\\nover that time. But we hope it will make a big difference\\nnonetheless.\\nMost educators say the math curriculum they’re given is not\\nengaging, effective, or relevant to their students’ lives. They\\nspend lots of time—of which they have so little—adapting the\\nmaterials or creating their own. Yet educational publishing\\ncompanies have not done nearly enough to understand what\\nteachers want and students need and improve what’s\\navailable.\\nSo we are. We’ll be funding teams of school districts and\\nuniversities to conduct research, which they’ll define, on what\\nworks and what doesn’t in elementary and middle school math\\ninstruction. Educational technologies that give teachers more\\ntools in their toolkit will be part of that effort, as will new\\napproaches to teacher training and even the variety of math\\ncourses offered.\\nWith a consortium of other funders, we will partner with a\\nsmall number of innovative publishers and educational\\ntechnology companies to develop amazing new products;\\nevaluate their efficacy in improving motivation, engagement,\\nand persistence; and make the best of them available to as\\nmany classrooms as possible.\\nPhoto: Alliance for Excellent Education /Allison Shelley\\nHow we work with outside experts to set\\nstrategies\\n5/6/24, 8:49 PM 2023 Gates Foundation Annual Letter: Our Inﬂuence | Bill & Melinda Gates Foundation\\nhttps://www.gatesfoundation.org/ideas/articles/2023-gates-foundation-annual-letter 9/13Our ultimate goal is not just to foster the development of\\nbetter, more engaging math materials that serve the students\\nfurthest behind standards, but also to prove to major\\npublishers that there’s a market for those materials. If we do\\nour job well, publishers will take it upon themselves to create\\nbetter resources too.\\nThe promise ahead\\nWhile we’re optimistic about the potential for progress, we’re also realistic. When it\\ncomes to the issues we work on, this is the toughest period in the foundation’s\\nhistory. And the challenges the world faces aren’t likely to be resolved in 2023.\\nThat means we’ll be looking for even more effective ways to accelerate innovation and\\nspur action toward the global goals.\\nThat doesn’t mean we will set the agenda of multilateral organizations like WHO and\\nthe Global Fund. Nor will we decide which malaria drugs regulators approve, or what\\nresearch scientists pursue. We won’t decide which seeds farmers plant in their fields\\nor which curriculum a school system adopts or whether a bed net is hung in a home.\\nOur role is to ensure that decision-makers—be they school board members or\\ncassava growers or health ministers—have the best possible options to choose from\\nand the best possible data to inform their decisions. But make no mistake:\\nWhere there’s a solution that can improve\\nlivelihoods and save lives, we’ll advocate\\npersistently for it.\\nWe won’t stop using our influence, along with our monetary commitments, to find\\nsolutions—as long as hundreds of thousands of children die of malaria just because\\nof where they live, as long as students of color and low-income students don’t have\\nequitable educational opportunities, and as long as famine threatens entire\\npopulations.\\nWe see so much promise ahead, and we’re excited to play a part in realizing it.\\nMark Suzman\\nChief Executive Officer\\nBill & Melinda Gates Foundation5/6/24, 8:49 PM 2023 Gates Foundation Annual Letter: Our Inﬂuence | Bill & Melinda Gates Foundation\\nhttps://www.gatesfoundation.org/ideas/articles/2023-gates-foundation-annual-letter 10/13Read nextDownload in:\\n\\x00 \\x00 \\x00 \\x00 \\x00 \\x00 ا | English | Français | Deutsch | \\x00ह\\x00ी | ⽇本語  | 中⽂  | Español\\nMore in:\\nPublished:\\nJan 16, 2023\\nAuthorPhilanthropy\\nCEO, Board Member, Bill & Melinda\\nGates Foundation\\nMark Suzman leads the foundation's\\nefforts to promote equity for all\\npeople around the world.\\nMark Suzman\\nAn agronomist shares three lessons for leaders at COP27.\\nBy Ndaya Beltchika\\nLead Technical Specialist, International Fund for Agricultural Development (IFAD)Women farmers are reeling from climate change. Leaders need\\nto put them ﬁrst.5/6/24, 8:49 PM 2023 Gates Foundation Annual Letter: Our Inﬂuence | Bill & Melinda Gates Foundation\\nhttps://www.gatesfoundation.org/ideas/articles/2023-gates-foundation-annual-letter 11/13Bill Gates shares why the Gates Foundation is committing $912 million to help replenish the\\nGlobal Fund and fight AIDS, tuberculosis, and malaria.\\nBy Bill Gates\\nCo-chair, Board Member, Bill & Melinda Gates FoundationThe Global Fund: One of the kindest—and most eﬀective—things\\npeople have ever done for one another\\nThe 11 grantees of the Gates Foundation’s first U.S. education Grand Challenge will design and\\nimplement innovative solutions to make algebra more accessible and relevant to students of\\ncolor, English learners, and low-income students.How these Grand Challenge winners are helping to make every\\nstudent a “math person”5/6/24, 8:49 PM 2023 Gates Foundation Annual Letter: Our Inﬂuence | Bill & Melinda Gates Foundation\\nhttps://www.gatesfoundation.org/ideas/articles/2023-gates-foundation-annual-letter 12/13We are a nonprofit fighting poverty, disease, and inequity\\naround the world.\\n© 1991-2024 Bill & Melinda Gates Foundation. All rights reserved.By Bob Hughes\\nDirector, K-12 Education, Bill & Melinda Gates Foundation\\nSign up for The Optimist newsletter\\nSubscribe to The Optimist to get weekly updates on the latest in global\\nhealth, gender equality, education, and more.\\nBy submitting your email to subscribe, you agree to the Bill & Melinda Gates Foundation's Email address\\nPrivacy & Cookies Notice\\nAbout Our work Ideas\\nContact Media Center Careers Discovery Center Give with us Goalkeepers\\nReporting scams Ethics reporting Privacy & Cookies Notice Terms of Use Brand guidelinesSubscribe5/6/24, 8:49 PM 2023 Gates Foundation Annual Letter: Our Inﬂuence | Bill & Melinda Gates Foundation\\nhttps://www.gatesfoundation.org/ideas/articles/2023-gates-foundation-annual-letter 13/13\", 'title': '2023 - 2023 Gates Foundation Annual Letter_ Our Influence _ Bill & Melinda Gates Foundation.pdf', 'year': '2023'} vector=None shard_key=None\n"
     ]
    }
   ],
   "source": [
    "query_results = query_qdrant('Highest impact year')\n",
    "for i, article in enumerate(query_results):\n",
    "    print(article)"
   ]
  },
  {
   "cell_type": "code",
   "execution_count": 38,
   "metadata": {},
   "outputs": [],
   "source": [
    "texts = [r.payload['text'] for r in query_results]\n",
    "input_text = ' '.join(texts)"
   ]
  },
  {
   "cell_type": "code",
   "execution_count": 40,
   "metadata": {},
   "outputs": [
    {
     "name": "stdout",
     "output_type": "stream",
     "text": [
      "In 2023, the Gates Foundation approved a budget of US$8.3 billion, a 15% increase over the previous year's payout. They are on track to meet their commitment of increasing their annual payout to US$9 billion by 2026. The foundation also created a new, expanded board of trustees to hold them accountable and ensure diverse perspectives are incorporated into their decisions. They continue to focus on their core mission of helping to ensure that every person has the chance to lead a healthy, productive life. The foundation is doubling down on their commitment despite the challenges posed by the COVID-19 pandemic and the stagnation of progress in global health and development.\n"
     ]
    }
   ],
   "source": [
    "from langchain.prompts import PromptTemplate\n",
    "from langchain_openai import ChatOpenAI\n",
    "\n",
    "custom_prompt = \"What did the Gates Foundation accomplish that year?\"\n",
    "\n",
    "template = PromptTemplate(template=\"{query} Context: {context}\", input_variables=[\"query\", \"context\"])\n",
    "prompt_with_context = template.invoke({\"query\": custom_prompt, \"context\": input_text})\n",
    "\n",
    "llm = ChatOpenAI(temperature=0.7)\n",
    "results = llm.invoke(prompt_with_context)\n",
    "print(results.content)"
   ]
  }
 ],
 "metadata": {
  "kernelspec": {
   "display_name": "proj-ai-1-rag",
   "language": "python",
   "name": "python3"
  },
  "language_info": {
   "codemirror_mode": {
    "name": "ipython",
    "version": 3
   },
   "file_extension": ".py",
   "mimetype": "text/x-python",
   "name": "python",
   "nbconvert_exporter": "python",
   "pygments_lexer": "ipython3",
   "version": "3.12.0"
  }
 },
 "nbformat": 4,
 "nbformat_minor": 2
}
